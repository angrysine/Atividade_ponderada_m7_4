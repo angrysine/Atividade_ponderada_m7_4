{
 "cells": [
  {
   "cell_type": "code",
   "execution_count": null,
   "metadata": {},
   "outputs": [],
   "source": [
    "import pandas as pd\n",
    "import numpy as np\n",
    "import matplotlib.pyplot as plt\n",
    "import base64"
   ]
  },
  {
   "cell_type": "code",
   "execution_count": null,
   "metadata": {},
   "outputs": [],
   "source": [
    "df = pd.read_csv('./archive/Mall_Customers.csv')"
   ]
  },
  {
   "cell_type": "code",
   "execution_count": null,
   "metadata": {},
   "outputs": [],
   "source": [
    "df[[\"Age\",'Spending Score (1-100)']].groupby('Age').mean().reset_index()"
   ]
  },
  {
   "cell_type": "code",
   "execution_count": null,
   "metadata": {},
   "outputs": [],
   "source": [
    "reduced_df = df[['Age','Spending Score (1-100)']].groupby('Age').mean().reset_index()\n",
    "del df\n",
    "upper_bound_age = 70\n",
    "lower_bound_age = 20\n",
    "mask = (reduced_df['Age'] <= upper_bound_age) & (reduced_df['Age'] >= lower_bound_age)\n",
    "reduced_df = reduced_df[mask]\n",
    "reduced_df.plot(x=\"Age\",y=\"Spending Score (1-100)\",kind='bar',figsize=(20,10),title=\"spending score per age\")\n",
    "plt.xticks(rotation=0, ha='right')\n",
    "plt.savefig('./images/income_per_age.png')\n",
    "del reduced_df"
   ]
  },
  {
   "cell_type": "code",
   "execution_count": null,
   "metadata": {},
   "outputs": [],
   "source": [
    "with open(\"./images/income_per_age.png\", \"rb\") as image_file:\n",
    "    encoded_string = base64.b64encode(image_file.read())\n",
    "    print(encoded_string)"
   ]
  }
 ],
 "metadata": {
  "kernelspec": {
   "display_name": "Python 3",
   "language": "python",
   "name": "python3"
  },
  "language_info": {
   "codemirror_mode": {
    "name": "ipython",
    "version": 3
   },
   "file_extension": ".py",
   "mimetype": "text/x-python",
   "name": "python",
   "nbconvert_exporter": "python",
   "pygments_lexer": "ipython3",
   "version": "3.10.12"
  },
  "orig_nbformat": 4
 },
 "nbformat": 4,
 "nbformat_minor": 2
}
